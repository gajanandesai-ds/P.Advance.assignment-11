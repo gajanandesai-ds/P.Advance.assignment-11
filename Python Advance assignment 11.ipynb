{
 "cells": [
  {
   "cell_type": "raw",
   "id": "e246e9bf",
   "metadata": {},
   "source": [
    "Q1. What is the concept of a metaclass?"
   ]
  },
  {
   "cell_type": "raw",
   "id": "c50ebb49",
   "metadata": {},
   "source": [
    "ans: In object oriented programming, a metaclass is whose instance are classes. just as an ordinary class defines the behaivour of certain objects, a metaclass defines the behaiour of certain classes and their instance.\n",
    "\n",
    "\n",
    "A class is also object and just like any other object, it's instance of something called metaclass,A special class type creates these class object.The type class is defalut metaclass which is responsible for making classes."
   ]
  },
  {
   "cell_type": "code",
   "execution_count": 2,
   "id": "240a4fd2",
   "metadata": {},
   "outputs": [
    {
     "name": "stdout",
     "output_type": "stream",
     "text": [
      "type of the student_object is: <class '__main__.student'>\n"
     ]
    }
   ],
   "source": [
    "class student:\n",
    "    pass\n",
    "student_object = student()\n",
    "\n",
    "print(\"type of the student_object is:\",type(student_object))"
   ]
  },
  {
   "cell_type": "code",
   "execution_count": null,
   "id": "c3629798",
   "metadata": {},
   "outputs": [],
   "source": []
  },
  {
   "cell_type": "code",
   "execution_count": null,
   "id": "9fa72fcc",
   "metadata": {},
   "outputs": [],
   "source": []
  },
  {
   "cell_type": "raw",
   "id": "49faf85e",
   "metadata": {},
   "source": [
    "Q2. What is the best way to declare a class's metaclass?"
   ]
  },
  {
   "cell_type": "code",
   "execution_count": 5,
   "id": "c19bd243",
   "metadata": {},
   "outputs": [
    {
     "name": "stdout",
     "output_type": "stream",
     "text": [
      "True\n",
      "True\n",
      "True\n"
     ]
    }
   ],
   "source": [
    "g = 10\n",
    "v = {'x':2,'y':4}\n",
    "class foo:\n",
    "    pass\n",
    "n= foo()\n",
    "for object in (g,v,n):\n",
    "    print(type(object)is object.__class__)"
   ]
  },
  {
   "cell_type": "code",
   "execution_count": null,
   "id": "01ab516b",
   "metadata": {},
   "outputs": [],
   "source": []
  },
  {
   "cell_type": "code",
   "execution_count": null,
   "id": "50749547",
   "metadata": {},
   "outputs": [],
   "source": []
  },
  {
   "cell_type": "raw",
   "id": "ef750fb1",
   "metadata": {},
   "source": [
    "Q3. How do class decorators overlap with metaclasses for handling classes?"
   ]
  },
  {
   "cell_type": "raw",
   "id": "8cd23037",
   "metadata": {},
   "source": [
    "ans: Decorators are much, much simpler and more limited and therfore should be preferred wheneve the desired effect can be achieved with either a metaclass or a class decorator\n",
    "\n",
    " we can do anything with a class decorator we can of course do with a custome metaclass (just apply the functionality of the \"decorator function\",i.e, the one that takes a class object and modifies it in the course of the metaclass's new or init that make the class object.\n",
    " \n",
    " \n",
    " The same applies to all magic methoda, i.e. to all kinds of operations as applied to the class itself (as opposed to onces applied to its instace, which use magic methods as defined inthe operations on the class object itself use magic methods as defined in the metaclass)"
   ]
  },
  {
   "cell_type": "code",
   "execution_count": 1,
   "id": "36707674",
   "metadata": {},
   "outputs": [
    {
     "name": "stdout",
     "output_type": "stream",
     "text": [
      "5\n",
      "10\n",
      "2.5\n"
     ]
    }
   ],
   "source": [
    "from functools import wraps\n",
    "\n",
    "def debug(func):\n",
    "    '''decorator for debugging passed function'''\n",
    "    \n",
    "    @wraps (func)\n",
    "    def wrapper(*args,**kwargs):\n",
    "        print(\"full name of this method\",func.__qualname__)\n",
    "        return func(*args, **kwargs)\n",
    "    return wrapper\n",
    "\n",
    "def debugmethods(cls):\n",
    "    '''class decorator make use of debug decorator to debug class methods'''\n",
    "    \n",
    "    for key, val in vars(cls).items():\n",
    "        if callable(val):\n",
    "            setattr(cls,key,debug(val))\n",
    "            \n",
    "        return cls\n",
    "    \n",
    "    \n",
    "#sample class\n",
    "@debugmethods\n",
    "class calc:\n",
    "    def add (self,a,b):\n",
    "        return a+b\n",
    "    def mul(self, a,b):\n",
    "        return a*b\n",
    "    def div (self, a,b):\n",
    "        return a/b\n",
    "    \n",
    "mycal = calc()\n",
    "print(mycal.add(2,3))\n",
    "print(mycal.mul(5,2))\n",
    "print(mycal.div(5,2))"
   ]
  },
  {
   "cell_type": "code",
   "execution_count": null,
   "id": "a005e17e",
   "metadata": {},
   "outputs": [],
   "source": []
  },
  {
   "cell_type": "code",
   "execution_count": null,
   "id": "f2a05d41",
   "metadata": {},
   "outputs": [],
   "source": []
  },
  {
   "cell_type": "raw",
   "id": "3aed2b87",
   "metadata": {},
   "source": [
    "Q4. How do class decorators overlap with metaclasses for handling instances?"
   ]
  },
  {
   "cell_type": "raw",
   "id": "3339823d",
   "metadata": {},
   "source": [
    "ans: Decorators can be used to manage both instance and classes,and they intersect with metaclasses in the second of these role."
   ]
  },
  {
   "cell_type": "code",
   "execution_count": 13,
   "id": "aeb21de3",
   "metadata": {},
   "outputs": [
    {
     "name": "stdout",
     "output_type": "stream",
     "text": [
      "120\n",
      "total time taken in : factorial 20.004785299301147\n"
     ]
    }
   ],
   "source": [
    "import time\n",
    "import math\n",
    "\n",
    "def calculate_time(func):\n",
    "    def innerl(*args,**kwargs):\n",
    "        begin = time.time()\n",
    "        func(*args,**kwargs)\n",
    "        end = time.time()\n",
    "        print(\"total time taken in :\", func.__name__, end - begin)\n",
    "        \n",
    "    return innerl\n",
    "\n",
    "@calculate_time\n",
    "def factorial(num):\n",
    "    time.sleep(20)\n",
    "    print(math.factorial(num))\n",
    "    \n",
    "factorial(5)"
   ]
  },
  {
   "cell_type": "code",
   "execution_count": null,
   "id": "e0b1e4fb",
   "metadata": {},
   "outputs": [],
   "source": []
  },
  {
   "cell_type": "code",
   "execution_count": null,
   "id": "cc4c7a96",
   "metadata": {},
   "outputs": [],
   "source": []
  },
  {
   "cell_type": "code",
   "execution_count": null,
   "id": "6f3a1da6",
   "metadata": {},
   "outputs": [],
   "source": []
  }
 ],
 "metadata": {
  "kernelspec": {
   "display_name": "Python 3",
   "language": "python",
   "name": "python3"
  },
  "language_info": {
   "codemirror_mode": {
    "name": "ipython",
    "version": 3
   },
   "file_extension": ".py",
   "mimetype": "text/x-python",
   "name": "python",
   "nbconvert_exporter": "python",
   "pygments_lexer": "ipython3",
   "version": "3.8.8"
  }
 },
 "nbformat": 4,
 "nbformat_minor": 5
}
